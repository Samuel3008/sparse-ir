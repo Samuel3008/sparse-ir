{
 "cells": [
  {
   "cell_type": "code",
   "execution_count": 3,
   "metadata": {},
   "outputs": [],
   "source": [
    "import numpy as np\n",
    "from sparse_ir import FiniteTempBasis, KernelFFlat, TauSampling\n",
    "from matplotlib import pylab as plt\n",
    "\n",
    "def __oversample(x: np.ndarray):\n",
    "    xmid = 0.5*(x[1:] + x[:-1])\n",
    "    return np.unique(np.hstack((x, xmid)))\n",
    "\n",
    "def _oversample(x: np.ndarray, n: int =1):\n",
    "    for i in range(n):\n",
    "        x = __oversample(x)\n",
    "    return x"
   ]
  },
  {
   "cell_type": "code",
   "execution_count": 4,
   "metadata": {},
   "outputs": [],
   "source": [
    "wmax = 1\n",
    "lambda_ = 1e+3\n",
    "beta = lambda_/wmax\n",
    "\n",
    "basis = FiniteTempBasis(\"F\", beta, wmax, eps=1e-4)\n",
    "smpl_p = basis.default_tau_sampling_points()\n",
    "#smpl_p = np.hstack((0, smpl_p, beta))"
   ]
  },
  {
   "cell_type": "code",
   "execution_count": 5,
   "metadata": {},
   "outputs": [],
   "source": [
    "def cond_num(basis, smpl_p):\n",
    "    test_p = 0.5*(smpl_p[1:] + smpl_p[:-1])\n",
    "    print(\"smpl\", smpl_p[:10])\n",
    "    print(\"test\", test_p[:10])\n",
    "    u, s, vt = np.linalg.svd(basis.u(smpl_p).T)\n",
    "    print(\"cond\", s[0]/s[-1])\n",
    "    u, s, vt = np.linalg.svd(basis.u(test_p).T)\n",
    "    print(\"cond\", s[0]/s[-1])\n",
    "    prj = basis.u(test_p).T @ np.linalg.pinv(basis.u(smpl_p).T, rcond=1e-10)\n",
    "    u, s, vt = np.linalg.svd(prj)\n",
    "    print(\"cond\", s[0]/s[-1], prj.shape, s)\n",
    "    print(np.sum(s>1e-1))\n",
    "    return np.linalg.cond(prj)"
   ]
  },
  {
   "cell_type": "code",
   "execution_count": 6,
   "metadata": {},
   "outputs": [
    {
     "name": "stdout",
     "output_type": "stream",
     "text": [
      "smpl [  0.30845067   0.61690135   2.15553091   4.85913411   9.23929588\n",
      "  16.2836445   27.79807996  46.87388433  78.57294377 130.83341031]\n",
      "test [  0.46267601   1.38621613   3.50733251   7.049215    12.76147019\n",
      "  22.04086223  37.33598215  62.72341405 104.70317704 172.75444186]\n",
      "cond 17.870800410129977\n",
      "cond 14.317763312606655\n",
      "cond 5.5061480742941065 (24, 25) [1.46317365 1.21888737 1.18390855 1.01881111 1.01635646 1.01084927\n",
      " 1.0088177  1.00437342 1.00425648 1.00415493 1.00322273 1.00129007\n",
      " 1.00091548 1.0001274  0.99999858 0.99961372 0.99960759 0.99915396\n",
      " 0.99907142 0.99745458 0.99613446 0.65476574 0.65447821 0.26573453]\n",
      "24\n",
      "smpl [ 0.30845067  0.46267601  0.61690135  1.38621613  2.15553091  3.50733251\n",
      "  4.85913411  7.049215    9.23929588 12.76147019]\n",
      "test [ 0.38556334  0.53978868  1.00155874  1.77087352  2.83143171  4.18323331\n",
      "  5.95417455  8.14425544 11.00038304 14.52255734]\n",
      "cond 15.654708176033791\n",
      "cond 14.263788682111318\n",
      "cond 2.9000142909827068e+16 (48, 49) [1.06912378e+00 1.06862258e+00 1.00827492e+00 1.00369910e+00\n",
      " 1.00311190e+00 1.00213631e+00 1.00172078e+00 1.00172054e+00\n",
      " 1.00153664e+00 1.00086141e+00 1.00057633e+00 1.00026650e+00\n",
      " 1.00018389e+00 1.00006789e+00 1.00006697e+00 9.99978807e-01\n",
      " 9.99930354e-01 9.99771659e-01 9.99754975e-01 9.99529381e-01\n",
      " 9.99253964e-01 9.68164847e-01 9.21055703e-01 7.18384684e-01\n",
      " 7.07200831e-01 4.92655792e-16 3.94905768e-16 3.80244118e-16\n",
      " 3.19896510e-16 2.95739033e-16 2.64398791e-16 2.63439710e-16\n",
      " 2.06389883e-16 2.04044160e-16 1.93174386e-16 1.90562443e-16\n",
      " 1.54243235e-16 1.25342669e-16 1.13477317e-16 1.04249321e-16\n",
      " 1.04249321e-16 1.04249321e-16 1.04249321e-16 9.34255729e-17\n",
      " 8.11402538e-17 7.75564420e-17 4.23199084e-17 3.68661554e-17]\n",
      "25\n"
     ]
    }
   ],
   "source": [
    "sizes = []\n",
    "conds = []\n",
    "for i in range(2):\n",
    "    smp_p_ = _oversample(basis.default_tau_sampling_points(),i)\n",
    "    sizes.append(smp_p_.size)\n",
    "    conds.append(cond_num(basis, smp_p_))\n",
    "sizes = np.asarray(sizes)\n",
    "conds = np.asarray(conds)"
   ]
  },
  {
   "cell_type": "code",
   "execution_count": 7,
   "metadata": {},
   "outputs": [
    {
     "name": "stdout",
     "output_type": "stream",
     "text": [
      "[25 49]\n",
      "[5.50614807e+00 1.70510916e+17]\n"
     ]
    },
    {
     "data": {
      "text/plain": [
       "[<matplotlib.lines.Line2D at 0x12bed0310>]"
      ]
     },
     "execution_count": 7,
     "metadata": {},
     "output_type": "execute_result"
    },
    {
     "data": {
      "image/png": "[encoded data removed]",
      "text/plain": [
       "<Figure size 432x288 with 1 Axes>"
      ]
     },
     "metadata": {
      "needs_background": "light"
     },
     "output_type": "display_data"
    }
   ],
   "source": [
    "\n",
    "print(sizes)\n",
    "print(conds)\n",
    "plt.plot(1/sizes, conds)"
   ]
  },
  {
   "cell_type": "code",
   "execution_count": 9,
   "metadata": {},
   "outputs": [
    {
     "name": "stdout",
     "output_type": "stream",
     "text": [
      "0.0001\n",
      "1e-06\n",
      "1e-08\n",
      "1e-10\n",
      "1e-12\n",
      "1e-14\n",
      "1e-16\n"
     ]
    },
    {
     "name": "stderr",
     "output_type": "stream",
     "text": [
      "/Users/hiroshi/git/sparse-ir/src/sparse_ir/basis.py:208: UserWarning: \n",
      "Basis cutoff is 1e-16, which is below sqrt(eps) with\n",
      "eps = 4.9e-32.  Expect singular values and basis functions\n",
      "for large l to have lower precision than the cutoff.\n",
      "\n",
      "  u, s, v = sve.compute(self.kernel, eps)\n"
     ]
    },
    {
     "name": "stdout",
     "output_type": "stream",
     "text": [
      "1e-18\n"
     ]
    },
    {
     "name": "stderr",
     "output_type": "stream",
     "text": [
      "/Users/hiroshi/git/sparse-ir/src/sparse_ir/basis.py:208: UserWarning: \n",
      "Basis cutoff is 1e-18, which is below sqrt(eps) with\n",
      "eps = 4.9e-32.  Expect singular values and basis functions\n",
      "for large l to have lower precision than the cutoff.\n",
      "\n",
      "  u, s, v = sve.compute(self.kernel, eps)\n"
     ]
    },
    {
     "name": "stdout",
     "output_type": "stream",
     "text": [
      "1e-20\n"
     ]
    },
    {
     "name": "stderr",
     "output_type": "stream",
     "text": [
      "/Users/hiroshi/git/sparse-ir/src/sparse_ir/basis.py:208: UserWarning: \n",
      "Basis cutoff is 1e-20, which is below sqrt(eps) with\n",
      "eps = 4.9e-32.  Expect singular values and basis functions\n",
      "for large l to have lower precision than the cutoff.\n",
      "\n",
      "  u, s, v = sve.compute(self.kernel, eps)\n"
     ]
    },
    {
     "name": "stdout",
     "output_type": "stream",
     "text": [
      "1e-22\n"
     ]
    },
    {
     "name": "stderr",
     "output_type": "stream",
     "text": [
      "/Users/hiroshi/git/sparse-ir/src/sparse_ir/basis.py:208: UserWarning: \n",
      "Basis cutoff is 1e-22, which is below sqrt(eps) with\n",
      "eps = 4.9e-32.  Expect singular values and basis functions\n",
      "for large l to have lower precision than the cutoff.\n",
      "\n",
      "  u, s, v = sve.compute(self.kernel, eps)\n"
     ]
    }
   ],
   "source": [
    "sizes2 = []\n",
    "conds2 = []\n",
    "smpl_p_ir = None\n",
    "for eps in [1e-4, 1e-6, 1e-8, 1e-10, 1e-12, 1e-14, 1e-16, 1e-18, 1e-20, 1e-22]:\n",
    "    print(eps)\n",
    "    basis_ = FiniteTempBasis(\"F\", beta, wmax, eps=eps)\n",
    "    smpl_p_ = basis_.default_tau_sampling_points()\n",
    "    sizes2.append(smpl_p_.size)\n",
    "    conds2.append(TauSampling(basis, sampling_points=smpl_p_).cond)\n",
    "    smpl_p_ir = smpl_p_\n",
    "sizes2 = np.asarray(sizes2)\n",
    "conds2 = np.asarray(conds2)"
   ]
  },
  {
   "cell_type": "code",
   "execution_count": null,
   "metadata": {},
   "outputs": [],
   "source": [
    "from numpy.polynomial.legendre import leggauss\n",
    "sizes3 = []\n",
    "conds3 = []\n",
    "for nsmpl in [200, 500, 1000, 10000]:\n",
    "    x, w = leggauss(nsmpl)\n",
    "    sizes3.append(x.size)\n",
    "    smpl_p = 0.5 * (x+1) * beta\n",
    "    conds3.append(TauSampling(basis, sampling_points=smpl_p).cond)\n",
    "sizes3 = np.asarray(sizes3)\n",
    "conds3 = np.asarray(conds3)"
   ]
  },
  {
   "cell_type": "code",
   "execution_count": null,
   "metadata": {},
   "outputs": [
    {
     "name": "stdout",
     "output_type": "stream",
     "text": [
      "[  34   67  133  265  529 1057 2113 4225]\n"
     ]
    },
    {
     "data": {
      "text/plain": [
       "<matplotlib.legend.Legend at 0x121dfffa0>"
      ]
     },
     "execution_count": 37,
     "metadata": {},
     "output_type": "execute_result"
    },
    {
     "data": {
      "image/png": "[encoded data removed]",
      "text/plain": [
       "<Figure size 432x288 with 1 Axes>"
      ]
     },
     "metadata": {
      "needs_background": "light"
     },
     "output_type": "display_data"
    }
   ],
   "source": [
    "print(sizes)\n",
    "plt.plot(1/sizes, conds, label=\"Power\", marker=\"o\")\n",
    "plt.plot(1/sizes2, conds2, label=\"IR\", marker=\"x\")\n",
    "plt.plot(1/sizes3, conds3, label=\"Legendre\", marker=\"s\")\n",
    "plt.xlim([0,None])\n",
    "plt.legend()"
   ]
  },
  {
   "cell_type": "code",
   "execution_count": null,
   "metadata": {},
   "outputs": [],
   "source": []
  }
 ],
 "metadata": {
  "interpreter": {
   "hash": "b0fa6594d8f4cbf19f97940f81e996739fb7646882a419484c72d19e05852a7e"
  },
  "kernelspec": {
   "display_name": "Python 3.9.9 64-bit",
   "language": "python",
   "name": "python3"
  },
  "language_info": {
   "codemirror_mode": {
    "name": "ipython",
    "version": 3
   },
   "file_extension": ".py",
   "mimetype": "text/x-python",
   "name": "python",
   "nbconvert_exporter": "python",
   "pygments_lexer": "ipython3",
   "version": "3.9.10"
  },
  "orig_nbformat": 4
 },
 "nbformat": 4,
 "nbformat_minor": 2
}
