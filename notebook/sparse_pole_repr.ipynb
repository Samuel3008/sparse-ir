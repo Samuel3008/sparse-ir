{
 "cells": [
  {
   "cell_type": "code",
   "execution_count": null,
   "metadata": {},
   "outputs": [],
   "source": [
    "%load_ext autoreload\n",
    "%autoreload 2"
   ]
  },
  {
   "cell_type": "code",
   "execution_count": null,
   "metadata": {},
   "outputs": [],
   "source": [
    "import numpy as np\n",
    "from sparse_ir import FiniteTempBasis\n",
    "from sparse_ir.spr import SparsePoleRepresentation\n",
    "\n",
    "%matplotlib inline\n",
    "from matplotlib import pyplot as plt"
   ]
  },
  {
   "cell_type": "code",
   "execution_count": null,
   "metadata": {},
   "outputs": [],
   "source": [
    "wmax = 1\n",
    "lambda_ = 1e+4\n",
    "beta = lambda_/wmax\n",
    "\n",
    "basis = FiniteTempBasis(\"F\", beta, wmax, eps=1e-10)"
   ]
  },
  {
   "cell_type": "code",
   "execution_count": null,
   "metadata": {},
   "outputs": [],
   "source": [
    "spr = SparsePoleRepresentation(basis)"
   ]
  },
  {
   "cell_type": "code",
   "execution_count": null,
   "metadata": {},
   "outputs": [],
   "source": [
    "plt.plot(spr.sampling_points)"
   ]
  },
  {
   "cell_type": "code",
   "execution_count": null,
   "metadata": {},
   "outputs": [],
   "source": [
    "# Three Gaussian peaks (normalized to 1)\n",
    "gaussian = lambda x, mu, sigma:\\\n",
    "    np.exp(-((x-mu)/sigma)**2)/(np.sqrt(np.pi)*sigma)\n",
    "\n",
    "rho = lambda omega: 0.2*gaussian(omega, 0.0, 0.15) + \\\n",
    "    0.4*gaussian(omega, 1.0, 0.8) + 0.4*gaussian(omega, -1.0, 0.8)\n",
    "\n",
    "omegas = np.linspace(-5, 5, 1000)\n",
    "plt.xlabel(r'$\\omega$')\n",
    "plt.ylabel(r'$\\rho(\\omega)$')\n",
    "plt.plot(omegas, rho(omegas))"
   ]
  },
  {
   "cell_type": "code",
   "execution_count": null,
   "metadata": {},
   "outputs": [],
   "source": [
    "rhol = basis.v.overlap(rho)\n",
    "plt.semilogy(np.abs(rhol))\n",
    "plt.ylim([1e-5, None])"
   ]
  },
  {
   "cell_type": "code",
   "execution_count": null,
   "metadata": {},
   "outputs": [],
   "source": [
    "gl = - basis.s * rhol\n",
    "plt.semilogy(np.abs(gl))\n",
    "plt.ylim([1e-5, None])"
   ]
  },
  {
   "cell_type": "code",
   "execution_count": null,
   "metadata": {},
   "outputs": [],
   "source": [
    "g_spr = spr.from_IR(gl)"
   ]
  },
  {
   "cell_type": "code",
   "execution_count": null,
   "metadata": {},
   "outputs": [],
   "source": [
    "plt.plot(spr.sampling_points, g_spr, marker=\"x\", ls=\"\")"
   ]
  },
  {
   "cell_type": "code",
   "execution_count": null,
   "metadata": {},
   "outputs": [],
   "source": [
    "gl_reconst = spr.to_IR(g_spr)"
   ]
  },
  {
   "cell_type": "code",
   "execution_count": null,
   "metadata": {},
   "outputs": [],
   "source": [
    "plt.semilogy(np.abs(gl))\n",
    "plt.semilogy(np.abs(gl-gl_reconst))"
   ]
  },
  {
   "cell_type": "code",
   "execution_count": null,
   "metadata": {},
   "outputs": [],
   "source": []
  }
 ],
 "metadata": {
  "interpreter": {
   "hash": "b0fa6594d8f4cbf19f97940f81e996739fb7646882a419484c72d19e05852a7e"
  },
  "kernelspec": {
   "display_name": "Python 3.9.9 64-bit",
   "language": "python",
   "name": "python3"
  },
  "language_info": {
   "codemirror_mode": {
    "name": "ipython",
    "version": 3
   },
   "file_extension": ".py",
   "mimetype": "text/x-python",
   "name": "python",
   "nbconvert_exporter": "python",
   "pygments_lexer": "ipython3",
   "version": "3.9.10"
  },
  "orig_nbformat": 4
 },
 "nbformat": 4,
 "nbformat_minor": 2
}
